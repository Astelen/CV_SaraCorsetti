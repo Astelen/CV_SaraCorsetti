{
  "nbformat": 4,
  "nbformat_minor": 0,
  "metadata": {
    "colab": {
      "provenance": []
    },
    "kernelspec": {
      "name": "python3",
      "display_name": "Python 3"
    },
    "language_info": {
      "name": "python"
    }
  },
  "cells": [
    {
      "cell_type": "code",
      "execution_count": 1,
      "metadata": {
        "id": "XhMW95O0CrsU"
      },
      "outputs": [],
      "source": [
        "#Importare TensorFlow"
      ]
    },
    {
      "cell_type": "code",
      "source": [
        "import tensorflow as tf"
      ],
      "metadata": {
        "id": "1eoUx5vNDLno"
      },
      "execution_count": 2,
      "outputs": []
    },
    {
      "cell_type": "code",
      "source": [
        "print(tf.__version__)"
      ],
      "metadata": {
        "colab": {
          "base_uri": "https://localhost:8080/"
        },
        "id": "4USoByreDPak",
        "outputId": "406535e6-2766-499d-acfa-77024e96e439"
      },
      "execution_count": 3,
      "outputs": [
        {
          "output_type": "stream",
          "name": "stdout",
          "text": [
            "2.19.0\n"
          ]
        }
      ]
    },
    {
      "cell_type": "code",
      "source": [
        "#Creare Tensor con tf.constant"
      ],
      "metadata": {
        "id": "mJhiEld9D9aO"
      },
      "execution_count": 4,
      "outputs": []
    },
    {
      "cell_type": "code",
      "source": [
        "scalare = tf.constant(2)\n",
        "scalare"
      ],
      "metadata": {
        "colab": {
          "base_uri": "https://localhost:8080/"
        },
        "id": "7yCjLQukEBWr",
        "outputId": "b1ca717b-fef0-4b18-ae44-885449790fc3"
      },
      "execution_count": 5,
      "outputs": [
        {
          "output_type": "execute_result",
          "data": {
            "text/plain": [
              "<tf.Tensor: shape=(), dtype=int32, numpy=2>"
            ]
          },
          "metadata": {},
          "execution_count": 5
        }
      ]
    },
    {
      "cell_type": "code",
      "source": [
        "scalare.ndim"
      ],
      "metadata": {
        "colab": {
          "base_uri": "https://localhost:8080/"
        },
        "id": "QHgcUZabF_wM",
        "outputId": "69545a99-22b8-480d-b767-eac6b123cb49"
      },
      "execution_count": 6,
      "outputs": [
        {
          "output_type": "execute_result",
          "data": {
            "text/plain": [
              "0"
            ]
          },
          "metadata": {},
          "execution_count": 6
        }
      ]
    },
    {
      "cell_type": "code",
      "source": [
        "vettore = tf.constant([10, 10])\n",
        "vettore"
      ],
      "metadata": {
        "colab": {
          "base_uri": "https://localhost:8080/"
        },
        "id": "4ffrbrkBGJQd",
        "outputId": "7691eb23-01da-40b9-c00c-23610f348db1"
      },
      "execution_count": 7,
      "outputs": [
        {
          "output_type": "execute_result",
          "data": {
            "text/plain": [
              "<tf.Tensor: shape=(2,), dtype=int32, numpy=array([10, 10], dtype=int32)>"
            ]
          },
          "metadata": {},
          "execution_count": 7
        }
      ]
    },
    {
      "cell_type": "code",
      "source": [
        "vettore.ndim"
      ],
      "metadata": {
        "colab": {
          "base_uri": "https://localhost:8080/"
        },
        "id": "8AQBlgagGPiw",
        "outputId": "b3bc196e-eb0d-4493-b4d4-b113787292cc"
      },
      "execution_count": 8,
      "outputs": [
        {
          "output_type": "execute_result",
          "data": {
            "text/plain": [
              "1"
            ]
          },
          "metadata": {},
          "execution_count": 8
        }
      ]
    },
    {
      "cell_type": "code",
      "source": [
        "matrice = tf.constant([[10, 7],\n",
        "                      [10, 7]])\n",
        "matrice"
      ],
      "metadata": {
        "colab": {
          "base_uri": "https://localhost:8080/"
        },
        "id": "tGZcpeYhGQ1q",
        "outputId": "48765ed2-1697-47b4-e463-28af147d0fb4"
      },
      "execution_count": 9,
      "outputs": [
        {
          "output_type": "execute_result",
          "data": {
            "text/plain": [
              "<tf.Tensor: shape=(2, 2), dtype=int32, numpy=\n",
              "array([[10,  7],\n",
              "       [10,  7]], dtype=int32)>"
            ]
          },
          "metadata": {},
          "execution_count": 9
        }
      ]
    },
    {
      "cell_type": "code",
      "source": [
        "matrice.ndim"
      ],
      "metadata": {
        "colab": {
          "base_uri": "https://localhost:8080/"
        },
        "id": "uUqZb2JKGn5p",
        "outputId": "ca7c3a44-2944-49b5-9029-e1090c82063d"
      },
      "execution_count": 10,
      "outputs": [
        {
          "output_type": "execute_result",
          "data": {
            "text/plain": [
              "2"
            ]
          },
          "metadata": {},
          "execution_count": 10
        }
      ]
    },
    {
      "cell_type": "code",
      "source": [
        "# Creare un'altra matrice\n",
        "matrice2 = tf.constant([[10., 7.], [3., 2.], [5., 6.]], dtype=tf.float16) #specifichiamo il dtypem perché in automatico prende l'integer.\n",
        "# Più è alto il numero, più è alta la precisione ma anche lo spazio richiesto in memoria.\n",
        "# Forzare la matrice mi permette di risolvere un errore Dtype\n",
        "matrice2"
      ],
      "metadata": {
        "colab": {
          "base_uri": "https://localhost:8080/"
        },
        "id": "-PXfb6bsGqf2",
        "outputId": "dfe38124-a09f-4220-ce30-c6ccf55ee7e8"
      },
      "execution_count": 11,
      "outputs": [
        {
          "output_type": "execute_result",
          "data": {
            "text/plain": [
              "<tf.Tensor: shape=(3, 2), dtype=float16, numpy=\n",
              "array([[10.,  7.],\n",
              "       [ 3.,  2.],\n",
              "       [ 5.,  6.]], dtype=float16)>"
            ]
          },
          "metadata": {},
          "execution_count": 11
        }
      ]
    },
    {
      "cell_type": "code",
      "source": [
        "matrice2.ndim"
      ],
      "metadata": {
        "id": "yjW0EuWZKxx9",
        "colab": {
          "base_uri": "https://localhost:8080/"
        },
        "outputId": "7036ac30-6aa8-46bf-809b-81bc96fa4bca"
      },
      "execution_count": 13,
      "outputs": [
        {
          "output_type": "execute_result",
          "data": {
            "text/plain": [
              "2"
            ]
          },
          "metadata": {},
          "execution_count": 13
        }
      ]
    },
    {
      "cell_type": "code",
      "source": [
        "# Creiamo un Tensor in modo da avere 3 dimensioni!\n",
        "tensore = tf.constant([[[1, 2, 3],\n",
        " [4, 5, 6]],\n",
        "  [[7, 8, 9],\n",
        "   [10, 11, 12]],\n",
        "    [[13, 14, 15],\n",
        "     [16, 17, 18]]])\n",
        "tensore"
      ],
      "metadata": {
        "colab": {
          "base_uri": "https://localhost:8080/"
        },
        "id": "EwEQWB1uIN7B",
        "outputId": "ca5c816f-c279-41d2-bade-ef9043fb09ef"
      },
      "execution_count": 18,
      "outputs": [
        {
          "output_type": "execute_result",
          "data": {
            "text/plain": [
              "<tf.Tensor: shape=(3, 2, 3), dtype=int32, numpy=\n",
              "array([[[ 1,  2,  3],\n",
              "        [ 4,  5,  6]],\n",
              "\n",
              "       [[ 7,  8,  9],\n",
              "        [10, 11, 12]],\n",
              "\n",
              "       [[13, 14, 15],\n",
              "        [16, 17, 18]]], dtype=int32)>"
            ]
          },
          "metadata": {},
          "execution_count": 18
        }
      ]
    },
    {
      "cell_type": "code",
      "source": [
        "tensore.ndim"
      ],
      "metadata": {
        "colab": {
          "base_uri": "https://localhost:8080/"
        },
        "id": "TE6ODj1eIuM-",
        "outputId": "f4971bb7-7053-44ed-8e8c-4f38125cd237"
      },
      "execution_count": 22,
      "outputs": [
        {
          "output_type": "execute_result",
          "data": {
            "text/plain": [
              "3"
            ]
          },
          "metadata": {},
          "execution_count": 22
        }
      ]
    },
    {
      "cell_type": "code",
      "source": [
        "#Definizioni:\n",
        "# Scalare = singolo numero (NO dimensioni)\n",
        "# Vettore = numero con direzione (dal concetto di fisica del vettore)\n",
        "# Matrice: un Array 2D di numeri\n",
        "# Tensor: un Array nD di numeri (quindi anche uno scalare, se ha 0 dimensioni!)"
      ],
      "metadata": {
        "id": "RItIMnK-WGDD"
      },
      "execution_count": 23,
      "outputs": []
    },
    {
      "cell_type": "code",
      "source": [
        "# Usiamo la forma Variable\n",
        "tensor_variable = tf.Variable([10, 7])\n",
        "tensor_costante = tf.constant([10, 7])\n",
        "tensor_variable, tensor_costante"
      ],
      "metadata": {
        "colab": {
          "base_uri": "https://localhost:8080/"
        },
        "id": "EsqT93xTW3p9",
        "outputId": "3e76777e-2356-4818-865b-25de8114dda9"
      },
      "execution_count": 34,
      "outputs": [
        {
          "output_type": "execute_result",
          "data": {
            "text/plain": [
              "(<tf.Variable 'Variable:0' shape=(2,) dtype=int32, numpy=array([10,  7], dtype=int32)>,\n",
              " <tf.Tensor: shape=(2,), dtype=int32, numpy=array([10,  7], dtype=int32)>)"
            ]
          },
          "metadata": {},
          "execution_count": 34
        }
      ]
    },
    {
      "cell_type": "code",
      "source": [
        "# Non possiamo semplicemente assegnare al tensor con indice [n] un nuovo valore.\n",
        "# Proviamo con .assign()\n",
        "tensor_variable[0].assign(7)\n",
        "tensor_variable\n",
        "# NB. Con un tensor costante NON posso modificarlo! Nè con assign, nè facendo index[n] = NuovoValore\n",
        "# I Tensor costanti non possono essere modificati e quindi hanno un uso diverso - di solito TensorFlow sceglie direttamente lui. Se dobbiamo scegliere e siamo in dubbio, meglio un Tensor variable."
      ],
      "metadata": {
        "colab": {
          "base_uri": "https://localhost:8080/"
        },
        "id": "GlABRMi5cX3H",
        "outputId": "5597eee9-9806-4f1a-9626-4a04591d33de"
      },
      "execution_count": 36,
      "outputs": [
        {
          "output_type": "execute_result",
          "data": {
            "text/plain": [
              "<tf.Variable 'Variable:0' shape=(2,) dtype=int32, numpy=array([7, 7], dtype=int32)>"
            ]
          },
          "metadata": {},
          "execution_count": 36
        }
      ]
    },
    {
      "cell_type": "code",
      "source": [
        "# Random Tensor: Tensor di dimensione arbitraria e con numeri random\n",
        "# Facciamo due Tensor random (ma uguali)\n",
        "random_1 = tf.random.Generator.from_seed(42)\n",
        "random_1 = random_1.normal(shape=(3, 2))\n",
        "random_1"
      ],
      "metadata": {
        "colab": {
          "base_uri": "https://localhost:8080/"
        },
        "id": "txHmCdjbd8vW",
        "outputId": "4ae255d2-d30c-4e39-a6f6-d121ace75969"
      },
      "execution_count": 38,
      "outputs": [
        {
          "output_type": "execute_result",
          "data": {
            "text/plain": [
              "<tf.Tensor: shape=(3, 2), dtype=float32, numpy=\n",
              "array([[-0.7565803 , -0.06854702],\n",
              "       [ 0.07595026, -1.2573844 ],\n",
              "       [-0.23193763, -1.8107855 ]], dtype=float32)>"
            ]
          },
          "metadata": {},
          "execution_count": 38
        }
      ]
    },
    {
      "cell_type": "code",
      "source": [
        "random_2 = tf.random.Generator.from_seed(42)\n",
        "random_2 = random_2.normal(shape=(3, 2))\n",
        "random_2"
      ],
      "metadata": {
        "colab": {
          "base_uri": "https://localhost:8080/"
        },
        "id": "k0WaS4x9f5pa",
        "outputId": "5cdb8274-7bbc-4178-b031-03518dc8f70a"
      },
      "execution_count": 41,
      "outputs": [
        {
          "output_type": "execute_result",
          "data": {
            "text/plain": [
              "<tf.Tensor: shape=(3, 2), dtype=float32, numpy=\n",
              "array([[-0.7565803 , -0.06854702],\n",
              "       [ 0.07595026, -1.2573844 ],\n",
              "       [-0.23193763, -1.8107855 ]], dtype=float32)>"
            ]
          },
          "metadata": {},
          "execution_count": 41
        }
      ]
    },
    {
      "cell_type": "code",
      "source": [
        "random_1, random_2, random_1 == random_2 # In questo modo confrontiamo i Tensor e tutti i valori corrispondenti tra loro!"
      ],
      "metadata": {
        "colab": {
          "base_uri": "https://localhost:8080/"
        },
        "id": "x5THeYULh6r5",
        "outputId": "e27ba4fc-02dd-4aff-d54e-4fac4068cece"
      },
      "execution_count": 43,
      "outputs": [
        {
          "output_type": "execute_result",
          "data": {
            "text/plain": [
              "(<tf.Tensor: shape=(3, 2), dtype=float32, numpy=\n",
              " array([[-0.7565803 , -0.06854702],\n",
              "        [ 0.07595026, -1.2573844 ],\n",
              "        [-0.23193763, -1.8107855 ]], dtype=float32)>,\n",
              " <tf.Tensor: shape=(3, 2), dtype=float32, numpy=\n",
              " array([[-0.7565803 , -0.06854702],\n",
              "        [ 0.07595026, -1.2573844 ],\n",
              "        [-0.23193763, -1.8107855 ]], dtype=float32)>,\n",
              " <tf.Tensor: shape=(3, 2), dtype=bool, numpy=\n",
              " array([[ True,  True],\n",
              "        [ True,  True],\n",
              "        [ True,  True]])>)"
            ]
          },
          "metadata": {},
          "execution_count": 43
        }
      ]
    },
    {
      "cell_type": "code",
      "source": [
        "random_3 = tf.random.Generator.from_seed(7)\n",
        "random_3 = random_3.normal(shape=(3, 2))\n",
        "random_3, random_3 == random_2"
      ],
      "metadata": {
        "colab": {
          "base_uri": "https://localhost:8080/"
        },
        "id": "UPPlrIb7iEzq",
        "outputId": "30eaefce-e98f-47c0-d932-d8bf94d94ef4"
      },
      "execution_count": 49,
      "outputs": [
        {
          "output_type": "execute_result",
          "data": {
            "text/plain": [
              "(<tf.Tensor: shape=(3, 2), dtype=float32, numpy=\n",
              " array([[-1.3240396 ,  0.28785667],\n",
              "        [-0.8757901 , -0.08857018],\n",
              "        [ 0.69211644,  0.84215707]], dtype=float32)>,\n",
              " <tf.Tensor: shape=(3, 2), dtype=bool, numpy=\n",
              " array([[False, False],\n",
              "        [False, False],\n",
              "        [False, False]])>)"
            ]
          },
          "metadata": {},
          "execution_count": 49
        }
      ]
    },
    {
      "cell_type": "code",
      "source": [
        "# Come cambiare ordine di un tensor random (es. se ho tutti dati ordinati e la rete neurale potrebbe iniziare ad imparare con un bias). Serve per disordinare i dati\n",
        "not_shuffle = tf.constant([[10, 7],\n",
        " [3, 5],\n",
        "  [2, 1]])\n",
        "not_shuffle\n"
      ],
      "metadata": {
        "colab": {
          "base_uri": "https://localhost:8080/"
        },
        "id": "C464ePpmigXD",
        "outputId": "1b94c21f-64ee-4dff-ee44-038f73c34725"
      },
      "execution_count": 51,
      "outputs": [
        {
          "output_type": "execute_result",
          "data": {
            "text/plain": [
              "<tf.Tensor: shape=(3, 2), dtype=int32, numpy=\n",
              "array([[10,  7],\n",
              "       [ 3,  5],\n",
              "       [ 2,  1]], dtype=int32)>"
            ]
          },
          "metadata": {},
          "execution_count": 51
        }
      ]
    },
    {
      "cell_type": "code",
      "source": [
        "shuffle_tensor = tf.random.shuffle(not_shuffle)\n",
        "shuffle_tensor\n",
        "# Mescola ma solo nella prima dimensione! Quindi in questo caso mescola le coppie, ma non i numeri dentro le coppie (che sarebbero la seconda dimensione)\n",
        "# Ogni volta che ricarico, ho un ordine diverso"
      ],
      "metadata": {
        "colab": {
          "base_uri": "https://localhost:8080/"
        },
        "id": "bGeMkRmik7QE",
        "outputId": "321547f1-9996-4b7d-99da-192afbd0ebe5"
      },
      "execution_count": 53,
      "outputs": [
        {
          "output_type": "execute_result",
          "data": {
            "text/plain": [
              "<tf.Tensor: shape=(3, 2), dtype=int32, numpy=\n",
              "array([[ 3,  5],\n",
              "       [ 2,  1],\n",
              "       [10,  7]], dtype=int32)>"
            ]
          },
          "metadata": {},
          "execution_count": 53
        }
      ]
    },
    {
      "cell_type": "code",
      "source": [
        "# Se uso il set_seed invece, rimane lo stesso ordine!\n",
        "shuffle_tensor = tf.random.shuffle(not_shuffle, seed=42)\n",
        "shuffle_tensor"
      ],
      "metadata": {
        "colab": {
          "base_uri": "https://localhost:8080/"
        },
        "id": "l_bBEAvilxxo",
        "outputId": "6b1ac967-3d82-4fc4-eb6d-0d97c6fffcb6"
      },
      "execution_count": 61,
      "outputs": [
        {
          "output_type": "execute_result",
          "data": {
            "text/plain": [
              "<tf.Tensor: shape=(3, 2), dtype=int32, numpy=\n",
              "array([[10,  7],\n",
              "       [ 2,  1],\n",
              "       [ 3,  5]], dtype=int32)>"
            ]
          },
          "metadata": {},
          "execution_count": 61
        }
      ]
    },
    {
      "cell_type": "code",
      "source": [
        "rand_tensor_1 = tf.random.Generator.from_seed(42)\n",
        "rand_tensor_1 = rand_tensor_1.normal(shape=(2, 5))\n",
        "rand_tensor_1"
      ],
      "metadata": {
        "colab": {
          "base_uri": "https://localhost:8080/"
        },
        "id": "S-H2Ku_Gm8b_",
        "outputId": "27d81ef0-a603-4f57-f312-b68df4ceaa77"
      },
      "execution_count": 63,
      "outputs": [
        {
          "output_type": "execute_result",
          "data": {
            "text/plain": [
              "<tf.Tensor: shape=(2, 5), dtype=float32, numpy=\n",
              "array([[-0.7565803 , -0.06854702,  0.07595026, -1.2573844 , -0.23193763],\n",
              "       [-1.8107855 ,  0.09988727, -0.50998646, -0.7535805 , -0.57166284]],\n",
              "      dtype=float32)>"
            ]
          },
          "metadata": {},
          "execution_count": 63
        }
      ]
    },
    {
      "cell_type": "code",
      "source": [
        "random_2 = tf.random.Generator.from_seed(42)\n",
        "random_2 = random_2.normal(shape = (4,2))\n",
        "random_2"
      ],
      "metadata": {
        "colab": {
          "base_uri": "https://localhost:8080/"
        },
        "id": "iY-N39j6nUj8",
        "outputId": "bb226657-a5d1-41f5-df29-0519f00d68f8"
      },
      "execution_count": 65,
      "outputs": [
        {
          "output_type": "execute_result",
          "data": {
            "text/plain": [
              "<tf.Tensor: shape=(4, 2), dtype=float32, numpy=\n",
              "array([[-0.7565803 , -0.06854702],\n",
              "       [ 0.07595026, -1.2573844 ],\n",
              "       [-0.23193763, -1.8107855 ],\n",
              "       [ 0.09988727, -0.50998646]], dtype=float32)>"
            ]
          },
          "metadata": {},
          "execution_count": 65
        }
      ]
    },
    {
      "cell_type": "code",
      "source": [
        "random_3 = tf.random.Generator.from_seed(42)\n",
        "random_3 = random_3.normal(shape=(3,3))\n",
        "random_3"
      ],
      "metadata": {
        "colab": {
          "base_uri": "https://localhost:8080/"
        },
        "id": "lSaE1qAgnfUX",
        "outputId": "e521cf73-2502-451e-8b0e-fcce1fc33e6e"
      },
      "execution_count": 68,
      "outputs": [
        {
          "output_type": "execute_result",
          "data": {
            "text/plain": [
              "<tf.Tensor: shape=(3, 3), dtype=float32, numpy=\n",
              "array([[-0.7565803 , -0.06854702,  0.07595026],\n",
              "       [-1.2573844 , -0.23193763, -1.8107855 ],\n",
              "       [ 0.09988727, -0.50998646, -0.7535805 ]], dtype=float32)>"
            ]
          },
          "metadata": {},
          "execution_count": 68
        }
      ]
    },
    {
      "cell_type": "code",
      "source": [
        "random_4 = tf.random.Generator.from_seed(42)\n",
        "random_4 = random_4.normal(shape = (8, 2))\n",
        "random_4"
      ],
      "metadata": {
        "colab": {
          "base_uri": "https://localhost:8080/"
        },
        "id": "XpA9dde0ntuv",
        "outputId": "0abda763-94b2-41e9-cf34-ae129906dee3"
      },
      "execution_count": 73,
      "outputs": [
        {
          "output_type": "execute_result",
          "data": {
            "text/plain": [
              "<tf.Tensor: shape=(8, 2), dtype=float32, numpy=\n",
              "array([[-0.7565803 , -0.06854702],\n",
              "       [ 0.07595026, -1.2573844 ],\n",
              "       [-0.23193763, -1.8107855 ],\n",
              "       [ 0.09988727, -0.50998646],\n",
              "       [-0.7535805 , -0.57166284],\n",
              "       [ 0.1480774 , -0.23362993],\n",
              "       [-0.3522796 ,  0.40621263],\n",
              "       [-1.0523509 ,  1.2054597 ]], dtype=float32)>"
            ]
          },
          "metadata": {},
          "execution_count": 73
        }
      ]
    },
    {
      "cell_type": "code",
      "source": [
        "random_5 = tf.random.Generator.from_seed(42)\n",
        "random_5 = random_5.normal(shape=(2, 6))\n",
        "random_5"
      ],
      "metadata": {
        "colab": {
          "base_uri": "https://localhost:8080/"
        },
        "id": "n7_HQlmin6eY",
        "outputId": "2f8a3786-cb53-4bf0-ed75-ed7368fa3d80"
      },
      "execution_count": 75,
      "outputs": [
        {
          "output_type": "execute_result",
          "data": {
            "text/plain": [
              "<tf.Tensor: shape=(2, 6), dtype=float32, numpy=\n",
              "array([[-0.7565803 , -0.06854702,  0.07595026, -1.2573844 , -0.23193763,\n",
              "        -1.8107855 ],\n",
              "       [ 0.09988727, -0.50998646, -0.7535805 , -0.57166284,  0.1480774 ,\n",
              "        -0.23362993]], dtype=float32)>"
            ]
          },
          "metadata": {},
          "execution_count": 75
        }
      ]
    },
    {
      "cell_type": "code",
      "source": [
        "random_6 = tf.random.Generator.from_seed(42)\n",
        "random_6 = random_6.normal(shape= (3, 2, 4))\n",
        "random_6"
      ],
      "metadata": {
        "colab": {
          "base_uri": "https://localhost:8080/"
        },
        "id": "sNBRxj_IoEzZ",
        "outputId": "13387fcd-ea20-456b-d4ac-4c34d82cee8c"
      },
      "execution_count": 77,
      "outputs": [
        {
          "output_type": "execute_result",
          "data": {
            "text/plain": [
              "<tf.Tensor: shape=(3, 2, 4), dtype=float32, numpy=\n",
              "array([[[-0.7565803 , -0.06854702,  0.07595026, -1.2573844 ],\n",
              "        [-0.23193763, -1.8107855 ,  0.09988727, -0.50998646]],\n",
              "\n",
              "       [[-0.7535805 , -0.57166284,  0.1480774 , -0.23362993],\n",
              "        [-0.3522796 ,  0.40621263, -1.0523509 ,  1.2054597 ]],\n",
              "\n",
              "       [[ 1.6874489 , -0.4462975 , -2.3410842 ,  0.99009085],\n",
              "        [-0.0876323 , -0.635568  , -0.6161736 , -1.9441465 ]]],\n",
              "      dtype=float32)>"
            ]
          },
          "metadata": {},
          "execution_count": 77
        }
      ]
    }
  ]
}